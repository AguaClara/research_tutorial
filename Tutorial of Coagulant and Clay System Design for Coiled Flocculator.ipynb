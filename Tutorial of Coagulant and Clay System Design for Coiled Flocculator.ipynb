{
 "cells": [
  {
   "cell_type": "code",
   "execution_count": 144,
   "metadata": {
    "collapsed": true
   },
   "outputs": [],
   "source": [
    "######################### Imports ########################\n",
    "import math\n",
    "import numpy as np\n",
    "\n",
    "try:\n",
    "    import utility as ut\n",
    "    from units import unit_registry as u\n",
    "except ModuleNotFoundError:\n",
    "    from AIDE import utility as ut\n",
    "    from AIDE.units import unit_registry as u\n"
   ]
  },
  {
   "cell_type": "markdown",
   "metadata": {},
   "source": [
    "# Tutorial of Coagulant and Clay System Design for Coiled Flocculator"
   ]
  },
  {
   "cell_type": "code",
   "execution_count": 145,
   "metadata": {
    "collapsed": true
   },
   "outputs": [],
   "source": [
    "#This pump rotor radius was set based on minimizing the error between predicted and measured values.\n",
    "# This is for the 6 roller pump heads.\n",
    "RADIUS_PUMP = 1.62*u.cm\n",
    "\n",
    "#This corrects for the fact that larger diameter tubing has more loss due to the space smashed by the rollers\n",
    "#I'm actually not quite sure what this mechanism is..\n",
    "#This was set based on minimizing the error between predicted and measured values.\n",
    "K_NONLINEAR = 13\n",
    "\n",
    "REV = 6.238"
   ]
  },
  {
   "cell_type": "code",
   "execution_count": 146,
   "metadata": {
    "collapsed": true
   },
   "outputs": [],
   "source": [
    "TUBE_CODE = [\"orange=black\",\"orange-red\",\"orange-blue\",\"orange-green\",\"green-yellow\",\"orange-yellow\",\"white-yellow\",\"orange-white\",\"black-black\",\"orange-orange\",\"white-black\",\"white-white\",\"white-red\",\"red-red\",\"red-grey\",\"grey-grey\",\"yellow-yellow\",\"yellow-blue\",\"blue-blue\",\"blue-green\",\"green-green\",\"purple-purple\",\"purple-black\",\"purple-orange\",\"purple-orange\",\"purple-white\",\"black-white\"]\n",
    "\n",
    "ID_TUBE_ARRAY = [0.13,0.19,0.25,0.38,0.44,0.51,0.57,0.64,0.76,0.89,0.95,1.02,1.09,1.14,1.22,1.30,1.42,1.52,1.65,1.75,1.85,2.06,2.29,2.54,2.62,2.79,3.17]*u.mm\n",
    "\n",
    "FLOW_TUBE_PER_REV = [0.001383333,0.002833333,0.004833333,0.010833333,0.014333333,0.02,0.023333333,0.03,0.041666667,0.056666667,0.063333333,0.073333333,0.083333333,0.09,0.101666667,0.115,0.133333333,0.151666667,0.166666667,0.183333333,0.216666667,0.25,0.283333333,0.333333333,0.366666667,0.401,0.433333333]*u.mL/REV\n",
    "\n",
    "TUBING_DATA = [TUBE_CODE, ID_TUBE_ARRAY, FLOW_TUBE_PER_REV]"
   ]
  },
  {
   "cell_type": "code",
   "execution_count": 147,
   "metadata": {
    "collapsed": true
   },
   "outputs": [],
   "source": [
    "#The function below returns the flow per revolution given the ID of the 3-stop tubing.\n",
    "#This function returns values that are very close to the table produced by ismatec.\n",
    "\n",
    "def flow_6roller_tube_per_rev_calc(ID_tube):\n",
    "    \"\"\"returns the flow per revolution given the ID of the 3-stop tubing.\n",
    "    This function returns values that are very close to the table produced by ismatec.\"\"\"\n",
    "    \n",
    "    return (((RADIUS_PUMP*math.pi*2)-(K_NONLINEAR*ID_tube))/(REV)*((ID_tube)**2*math.pi/4))\n",
    "\n",
    "#In the lab we currently have orange-yellow, yellow-blue, and purple-white tubing"
   ]
  },
  {
   "cell_type": "markdown",
   "metadata": {},
   "source": [
    "# Determining Q.floc:"
   ]
  },
  {
   "cell_type": "code",
   "execution_count": 148,
   "metadata": {
    "collapsed": true
   },
   "outputs": [],
   "source": [
    "FLOW_PLANT = 7*u.mL/u.s"
   ]
  },
  {
   "cell_type": "markdown",
   "metadata": {},
   "source": [
    "### Mixing"
   ]
  },
  {
   "cell_type": "markdown",
   "metadata": {},
   "source": [
    "#### Clay"
   ]
  },
  {
   "cell_type": "code",
   "execution_count": 149,
   "metadata": {
    "collapsed": true
   },
   "outputs": [],
   "source": [
    "#Turbidity (NTU) of the expected influen\n",
    "NTU = 1.7*u.mg/u.L\n",
    "\n",
    "#The concentration of clay in the mixed water in the flocculator.\n",
    "CONC_CLAY = 100*NTU\n",
    "\n",
    "#This is for a 100 rpm pump and is designed to get the pump operating \n",
    "#at an rpm where it has good speed control\n",
    "#and it has the ability to be adjusted up or down as needed. \n",
    "#Some of our pumps have a minimum speed of about 2.3 rpm.\n",
    "MIN_RPM = 3*REV/u.min\n",
    "MAX_RPM = 95*REV/u.min\n",
    "\n",
    "CLAY_TUBING_COLORS = \"yellow-blue\" #yellow blue tubing\n",
    "\n",
    "ID_CLAY_TUBING = ID_TUBE_ARRAY[TUBE_CODE.index(CLAY_TUBING_COLORS)]\n",
    "\n",
    "CONC_CLAY_STOCK_MAX = CONC_CLAY*FLOW_PLANT/(flow_6roller_tube_per_rev_calc(ID_CLAY_TUBING)*MIN_RPM)\n",
    "\n",
    "CONC_CLAY_STOCK_MAX = ((CONC_CLAY_STOCK_MAX).to(u.g/u.L))\n",
    "\n",
    "CLAY_STOCK_MAX_EMPIRICAL = 300*u.g/u.L\n",
    "\n",
    "#Clay stock concentrations of up to 300 g/L have been tested and are able to be pumped\n",
    "\n",
    "CONC_CLAY_STOCK_MIN = CONC_CLAY*FLOW_PLANT/(flow_6roller_tube_per_rev_calc(ID_CLAY_TUBING)*MAX_RPM)\n",
    "\n",
    "CONC_CLAY_STOCK_MIN = ((CONC_CLAY_STOCK_MIN).to(u.g/u.L))\n",
    "\n",
    "#The concentration of clay in the stock bottle.\n",
    "#You can change this to make sure the designed velocity for the \n",
    "#clay pump is within the range of velocity of the pump.\n",
    "clay_param = 10**((math.floor(math.log10(min(CONC_CLAY_STOCK_MAX,CLAY_STOCK_MAX_EMPIRICAL).magnitude)))-1)\n",
    "clay_param2 = min(CONC_CLAY_STOCK_MAX,CLAY_STOCK_MAX_EMPIRICAL)/clay_param\n",
    "CONC_CLAY_STOCK = math.floor(clay_param2.magnitude)*(clay_param)\n",
    "CONC_CLAY_STOCK = CONC_CLAY_STOCK*(u.g/u.L)\n",
    "\n",
    "#The volume of container which holds clay suspension. \n",
    "VOLUME_CLAY_STOCK = 1*u.L\n",
    "\n",
    "#The mass of clay that we need to add into the stock container\n",
    "MASS_STOCK_CLAY = CONC_CLAY_STOCK*VOLUME_CLAY_STOCK\n",
    "\n",
    "#Flow rate of clay suspension that needed\n",
    "FLOW_CLAY_STOCK = CONC_CLAY*FLOW_PLANT/CONC_CLAY_STOCK\n",
    "FLOW_CLAY_STOCK= (FLOW_CLAY_STOCK).to(u.mL/u.s)\n",
    "\n",
    "#The time at which the clay suspension in the container would run out.\n",
    "TIME_CLAY_STOCK = VOLUME_CLAY_STOCK/FLOW_CLAY_STOCK\n",
    "TIME_CLAY_STOCK = TIME_CLAY_STOCK.to(u.hr)\n",
    "\n"
   ]
  },
  {
   "cell_type": "markdown",
   "metadata": {},
   "source": [
    "#### PACL"
   ]
  },
  {
   "cell_type": "code",
   "execution_count": 150,
   "metadata": {
    "collapsed": true
   },
   "outputs": [],
   "source": [
    "#Concentration of Aluminum in the laboratory PACl stock \n",
    "#(Confirm that this matches the stock concentration you are using.)\n",
    "CONC_SUPER_STOCK_PACL = 69.4*u.g/u.L\n",
    "\n",
    "#The minimum dose of PACl of the mixed water in the flocculator.\n",
    "CONC_PACL_MIN = 0.2*u.mg/u.L\n",
    "\n",
    "#The maximum dose of PACl of the mixed water in the flocculator.\n",
    "CONC_PACL_MAX = 2*u.mg/u.L\n",
    "\n",
    "PACL_TUBING_COLORS = \"orange-yellow\"\n",
    "\n",
    "ID_PACL_TUBING = ID_TUBE_ARRAY[TUBE_CODE.index(PACL_TUBING_COLORS)]\n",
    "\n",
    "CONC_PACL_STOCK_MAX = CONC_PACL_MIN*FLOW_PLANT/(flow_6roller_tube_per_rev_calc(ID_PACL_TUBING)*MIN_RPM)\n",
    "\n",
    "CONC_PACL_STOCK_MAX = CONC_PACL_STOCK_MAX.to(u.g/u.L)\n",
    "\n",
    "CONC_PACL_STOCK_MIN = CONC_PACL_MAX*FLOW_PLANT/(flow_6roller_tube_per_rev_calc(ID_PACL_TUBING)*MAX_RPM)\n",
    "\n",
    "CONC_PACL_STOCK_MIN = CONC_PACL_STOCK_MIN.to(u.g/u.L)\n",
    "\n",
    "pacl_param = 10**((math.floor(math.log10(min(CONC_PACL_STOCK_MAX,CONC_SUPER_STOCK_PACL).magnitude)))-1)\n",
    "pacl_param2 = min(CONC_PACL_STOCK_MAX,CONC_SUPER_STOCK_PACL)/pacl_param\n",
    "CONC_PACL_STOCK = math.floor(pacl_param2.magnitude)*(pacl_param)\n",
    "CONC_PACL_STOCK = CONC_PACL_STOCK*(u.g/u.L)\n",
    "\n",
    "#The volume of container which holds coagulant.\n",
    "VOLUME_PACL_BOTTLE = 1*u.L\n",
    "\n",
    "#The volume of the PACl super stock that must be diluted\n",
    "#to the volume of the PAClBottle.\n",
    "VOLUME_PACL_SUPER_STOCK = VOLUME_PACL_BOTTLE*CONC_PACL_STOCK/CONC_SUPER_STOCK_PACL\n",
    "VOLUME_PACL_SUPER_STOCK = VOLUME_PACL_SUPER_STOCK.to(u.mL)\n",
    "\n",
    "#Flow rate of coagulant solution that is needed\n",
    "FLOW_PACL_MAX = CONC_PACL_MAX*FLOW_PLANT/CONC_PACL_STOCK\n",
    "FLOW_PACL_MAX = FLOW_PACL_MAX.to(u.mL/u.s)\n",
    "\n",
    "#The time after which the coagulant in the container  would be run out.\n",
    "TIME_PACL = VOLUME_PACL_BOTTLE/FLOW_PACL_MAX\n",
    "TIME_PACL = TIME_PACL.to(u.day)\n"
   ]
  },
  {
   "cell_type": "markdown",
   "metadata": {},
   "source": [
    "#### Water"
   ]
  },
  {
   "cell_type": "code",
   "execution_count": 151,
   "metadata": {
    "collapsed": true
   },
   "outputs": [],
   "source": [
    "#Flow rate of water needed directly from the tap. \n",
    "#This can be calculated in ProCoDA using the external function for subtract.\n",
    "\n",
    "FLOW_WATER = FLOW_PLANT - FLOW_CLAY_STOCK - FLOW_PACL_MAX\n",
    "FLOW_WATER = FLOW_WATER.to(u.mL/u.min)\n"
   ]
  }
 ],
 "metadata": {
  "kernelspec": {
   "display_name": "Python 3",
   "language": "python",
   "name": "python3"
  },
  "language_info": {
   "codemirror_mode": {
    "name": "ipython",
    "version": 3
   },
   "file_extension": ".py",
   "mimetype": "text/x-python",
   "name": "python",
   "nbconvert_exporter": "python",
   "pygments_lexer": "ipython3",
   "version": "3.6.1"
  }
 },
 "nbformat": 4,
 "nbformat_minor": 2
}
